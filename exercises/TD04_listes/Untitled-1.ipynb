{
 "metadata": {
  "language_info": {
   "codemirror_mode": {
    "name": "ipython",
    "version": 3
   },
   "file_extension": ".py",
   "mimetype": "text/x-python",
   "name": "python",
   "nbconvert_exporter": "python",
   "pygments_lexer": "ipython3",
   "version": "3.8.5-final"
  },
  "orig_nbformat": 2,
  "kernelspec": {
   "name": "python3",
   "display_name": "Python 3"
  }
 },
 "nbformat": 4,
 "nbformat_minor": 2,
 "cells": [
  {
   "cell_type": "code",
   "execution_count": 52,
   "metadata": {},
   "outputs": [
    {
     "output_type": "stream",
     "name": "stdout",
     "text": [
      "385138\n(0, 9, 43, 12)\n0 jours 9 heures 43 minutes 12 secondes\n"
     ]
    }
   ],
   "source": [
    "def TempsSecondes(temps):\n",
    "    jour, heure, minute, seconde = temps\n",
    "    return (jour * 24 + heure)*60*60 + minute * 60 + seconde\n",
    "    \n",
    "\n",
    "temps = 4, 10, 58, 58\n",
    "print(TempsSecondes(temps))\n",
    "\n",
    "def SecondeTemps(seconde):\n",
    "    jour = seconde // (24 * 60 * 60)\n",
    "    seconde = seconde % (24 * 60 * 60)\n",
    "    heure = seconde // (60 * 60)\n",
    "    seconde = seconde % (60 * 60)\n",
    "    minute = seconde // (60)\n",
    "    seconde = seconde % 60\n",
    "    return (jour, heure, minute, seconde)\n",
    "\n",
    "seconde = 34992\n",
    "print(SecondeTemps(seconde))\n",
    "    \n",
    "temps = SecondeTemps(seconde)\n",
    "\n",
    "print (temps[0], \"jours\", temps[1], \"heures\", temps[2], \"minutes\", temps[3], \"secondes\")\n"
   ]
  },
  {
   "cell_type": "code",
   "execution_count": 26,
   "metadata": {},
   "outputs": [
    {
     "output_type": "stream",
     "name": "stdout",
     "text": [
      "1 jour 34 heures 55 minutes 58 secondes "
     ]
    }
   ],
   "source": [
    "def AffichePluriel(valeur, mot):\n",
    "    if valeur != 0:\n",
    "        print(valeur, \"\", end=\"\")\n",
    "        print(mot, end=\"\")\n",
    "        if valeur != 1:\n",
    "            print(\"s\", end=\"\")\n",
    "        print(\" \", end=\"\")\n",
    "\n",
    "def AfficheTemps(temps):\n",
    "    AffichePluriel(temps[0], \"jour\")\n",
    "    AffichePluriel(temps[1], \"heure\")\n",
    "    AffichePluriel(temps[2], \"minute\")\n",
    "    AffichePluriel(temps[3], \"seconde\")\n",
    "\n",
    "AfficheTemps((1, 34, 55, 58))\n"
   ]
  },
  {
   "cell_type": "code",
   "execution_count": 44,
   "metadata": {},
   "outputs": [
    {
     "output_type": "stream",
     "name": "stdout",
     "text": [
      "Invalide\n"
     ]
    },
    {
     "output_type": "error",
     "ename": "SystemExit",
     "evalue": "",
     "traceback": [
      "An exception has occurred, use %tb to see the full traceback.\n",
      "\u001b[0;31mSystemExit\u001b[0m\n"
     ]
    }
   ],
   "source": [
    "def DemandeTemps():\n",
    "    jour = int(input(\"Jour?\"))\n",
    "    heure = int(input(\"Heure?\"))\n",
    "    if heure > 23:\n",
    "        print(\"Invalide\")\n",
    "        sys.exit()\n",
    "    minute = int(input(\"Minute?\"))\n",
    "    if minute > 59:\n",
    "        print(\"Invalide\")\n",
    "        sys.exit()\n",
    "    seconde = int(input(\"Seconde?\"))\n",
    "    if seconde > 59:\n",
    "        print(\"Invalide\")\n",
    "        sys.exit()\n",
    "    return(jour, heure, minute, seconde)\n",
    "\n",
    "\n",
    "AfficheTemps(DemandeTemps())"
   ]
  },
  {
   "cell_type": "code",
   "execution_count": 47,
   "metadata": {},
   "outputs": [
    {
     "output_type": "execute_result",
     "data": {
      "text/plain": [
       "(6, 2, 56, 14)"
      ]
     },
     "metadata": {},
     "execution_count": 47
    }
   ],
   "source": [
    "def SommeTemps(temps1, temps2):\n",
    "    return SecondeTemps(TempsSecondes(temps1) + TempsSecondes(temps2))\n",
    "\n",
    "SommeTemps((1, 45, 58, 32), (3, 4, 57, 42))"
   ]
  },
  {
   "cell_type": "code",
   "execution_count": 51,
   "metadata": {},
   "outputs": [
    {
     "output_type": "stream",
     "name": "stdout",
     "text": [
      "9.0 heures 43.0 minutes 12.0 secondes "
     ]
    }
   ],
   "source": [
    "def ProportionTemps(temps, proportion):\n",
    "    return SecondeTemps(TempsSecondes(temps) * proportion)\n",
    "\n",
    "AfficheTemps(ProportionTemps((2, 0, 36, 0), 0.2))"
   ]
  },
  {
   "cell_type": "code",
   "execution_count": 67,
   "metadata": {},
   "outputs": [
    {
     "output_type": "stream",
     "name": "stdout",
     "text": [
      "2020.0 annees 336.0 jours 19.0 heures 18.0 minutes 41.13495397567749 secondes 1605900105.909227\nFri Nov 20 20:21:45 2020\n2020.0 annees 336.0 jours 19.0 heures 21.0 minutes 45.90979313850403 secondes "
     ]
    }
   ],
   "source": [
    "import time\n",
    "def TempsDate(temps):\n",
    "    jour, heure, minute, seconde = temps\n",
    "    annee = (jour // 365) + 1970\n",
    "    jour = jour % 365\n",
    "    return (annee, jour, heure, minute, seconde)\n",
    "\n",
    "def AfficheDate(date):\n",
    "    annee, jour, heure, minute, seconde = date\n",
    "    AffichePluriel(annee, \"annee\")\n",
    "    AfficheTemps((jour, heure, minute, seconde))\n",
    "\n",
    "seconde = 1605899921.134954\n",
    "AfficheDate(TempsDate(SecondeTemps(seconde)))\n",
    "\n",
    "print(time.time())\n",
    "print(time.asctime())\n",
    "AfficheDate(TempsDate(SecondeTemps(time.time())))\n",
    "\n",
    "\n"
   ]
  },
  {
   "cell_type": "code",
   "execution_count": null,
   "metadata": {},
   "outputs": [],
   "source": []
  },
  {
   "cell_type": "code",
   "execution_count": 82,
   "metadata": {},
   "outputs": [
    {
     "output_type": "stream",
     "name": "stdout",
     "text": [
      "2000 Est bissextile\n2004 Est bissextile\n2008 Est bissextile\n2012 Est bissextile\n2016 Est bissextile\n2020 Est bissextile\n2024 Est bissextile\n"
     ]
    }
   ],
   "source": [
    "def BissextileTrue(annee):\n",
    "    return (annee % 4 == 0) and (annee % 100 != 0 or annee % 400 == 0 )\n",
    "\n",
    "def Bissextile(jour):\n",
    "    annee = 2000\n",
    "    while jour > 0:\n",
    "        if BissextileTrue(annee):\n",
    "            jour -= 366\n",
    "            print(annee, \"Est bissextile\")\n",
    "        else:\n",
    "            jour -= 355\n",
    "        annee += 1\n",
    "\n",
    "Bissextile(10000)\n",
    "\n",
    "\n",
    "\n"
   ]
  },
  {
   "cell_type": "code",
   "execution_count": 87,
   "metadata": {},
   "outputs": [
    {
     "output_type": "error",
     "ename": "TypeError",
     "evalue": "TempsDateBissextile() missing 1 required positional argument: 'temps'",
     "traceback": [
      "\u001b[0;31m---------------------------------------------------------------------------\u001b[0m",
      "\u001b[0;31mTypeError\u001b[0m                                 Traceback (most recent call last)",
      "\u001b[0;32m<ipython-input-87-f71140f049f1>\u001b[0m in \u001b[0;36m<module>\u001b[0;34m\u001b[0m\n\u001b[1;32m     19\u001b[0m     \u001b[0;32mreturn\u001b[0m \u001b[0;34m(\u001b[0m\u001b[0mannee\u001b[0m\u001b[0;34m,\u001b[0m \u001b[0mjour\u001b[0m\u001b[0;34m,\u001b[0m \u001b[0mheure\u001b[0m\u001b[0;34m,\u001b[0m \u001b[0mminute\u001b[0m\u001b[0;34m,\u001b[0m \u001b[0mseconde\u001b[0m\u001b[0;34m)\u001b[0m\u001b[0;34m\u001b[0m\u001b[0;34m\u001b[0m\u001b[0m\n\u001b[1;32m     20\u001b[0m \u001b[0;34m\u001b[0m\u001b[0m\n\u001b[0;32m---> 21\u001b[0;31m \u001b[0mTempsDateBissextile\u001b[0m\u001b[0;34m(\u001b[0m\u001b[0;34m)\u001b[0m\u001b[0;34m\u001b[0m\u001b[0;34m\u001b[0m\u001b[0m\n\u001b[0m\u001b[1;32m     22\u001b[0m \u001b[0mtemps\u001b[0m \u001b[0;34m=\u001b[0m \u001b[0msecondeEnTemps\u001b[0m\u001b[0;34m(\u001b[0m\u001b[0;36m1000000000\u001b[0m\u001b[0;34m)\u001b[0m\u001b[0;34m\u001b[0m\u001b[0;34m\u001b[0m\u001b[0m\n\u001b[1;32m     23\u001b[0m \u001b[0mafficheTemps\u001b[0m\u001b[0;34m(\u001b[0m\u001b[0mtemps\u001b[0m\u001b[0;34m)\u001b[0m\u001b[0;34m\u001b[0m\u001b[0;34m\u001b[0m\u001b[0m\n",
      "\u001b[0;31mTypeError\u001b[0m: TempsDateBissextile() missing 1 required positional argument: 'temps'"
     ]
    }
   ],
   "source": [
    "def Bissextile(jour):\n",
    "    annee = 1970\n",
    "    NbreBissextile = 0\n",
    "    while jour > 0:\n",
    "        if BissextileTrue(annee):\n",
    "            jour -= 366\n",
    "            NbreBissextile += 1\n",
    "            print(annee, \"Est bissextile\")\n",
    "        else:\n",
    "            jour -= 365\n",
    "        annee += 1\n",
    "\n",
    "def TempsDateBissextile(temps):\n",
    "    temps = SecondeTemps(temps)\n",
    "    jour, heure, minute, seconde = temps\n",
    "    jour += NbreBissextile\n",
    "    annee = 1970 + jour // 365\n",
    "    jour = jour % 365\n",
    "    return (annee, jour, heure, minute, seconde)\n",
    "\n",
    "TempsDateBissextile()\n",
    "temps = secondeEnTemps(1000000000)\n",
    "afficheTemps(temps)\n",
    "afficheDate(TempsDateBissextile(temps))\n",
    "print(time.asctime())\n",
    "afficheDate(time.time())"
   ]
  },
  {
   "cell_type": "code",
   "execution_count": null,
   "metadata": {},
   "outputs": [],
   "source": []
  }
 ]
}