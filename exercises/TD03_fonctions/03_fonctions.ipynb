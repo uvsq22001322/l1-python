{
 "cells": [
  {
   "cell_type": "markdown",
   "metadata": {},
   "source": [
    "# Instructions Générales\n",
    "\n",
    "Ce TD est à faire en créant un fichier td3.py, que vous éditerez dans VSCode. \n",
    "Vous ne remplirez pas les cellules de ce notebook, mais vous les copierez au fur et à mesure \n",
    "dans votre fichier pour les compléter.\n",
    "\n",
    "Vous respecterez au mieux les règles d'écriture de code, en particulier chaque fonction devra avoir un **docstring** et des commentaires si nécessaire et les noms de variable seront illustratifs de leur usage. Vous utiliserez les outils de débogage (flake8, mypy, debugger, pythontutor ...) pour corriger vos bogues."
   ]
  },
  {
   "cell_type": "markdown",
   "metadata": {},
   "source": [
    "# Gestion du temps\n",
    "\n",
    "Nous allons créer un petit logiciel de gestion du temps et des dates.\n",
    "Pour cela nous aurons besoin de créer un certain nombre de fonctions utilitaires.\n",
    "\n",
    "Un temps a le format suivant: (jour: int, heure: int, minute: int, seconde: int).\n",
    "C'est un tuple de 4 éléments. Par exemple (4, 3, 13, 20) correspond à 4 jours, 3 heures, 13 minutes et 20 secondes.\n",
    "Si on a une variable temps = (4, 3, 13, 20), pour accéder au premier élément on fait temps\\[0\\] ce qui donne 4,\n",
    "le nombre de jours.\n",
    "\n",
    "Créer la fonction qui prend comme argument le temps et renvoie le nombre de seconde total correspondant à ce temps.\n",
    "Créer la fonction qui prend un nombre de secondes et renvoie le temps correspondant."
   ]
  },
  {
   "cell_type": "code",
   "execution_count": 5,
   "metadata": {},
   "outputs": [
    {
     "output_type": "stream",
     "name": "stdout",
     "text": [
      "<class 'tuple'>\n5734\n<class 'int'>\n(115, 17, 46, 40)\n1 jours 3 heures 46 minutes 40 secondes\n"
     ]
    }
   ],
   "source": [
    "#temps[0] : jours, temps[1]: heures, temps[2]: minutes, temps[3]: secondes\n",
    "\n",
    "def tempsEnSeconde(temps):\n",
    "    \"\"\" Renvoie la valeur en seconde de temps donné comme jour, heure, minute, seconde.\"\"\"\n",
    "    jour, heure, minute, seconde = temps\n",
    "    return ((jour*24 + heure)*60 + seconde)\n",
    "\n",
    "temps = (3, 23, 1, 34)\n",
    "print(type(temps))\n",
    "print(tempsEnSeconde(temps))   \n",
    "\n",
    "def secondeEnTemps(seconde):\n",
    "    \"\"\"Renvoie le temps (jour, heure, minute, seconde) qui correspond au nombre de seconde passé en argument\"\"\"\n",
    "    \n",
    "    jour = seconde // (24*60*60)\n",
    "    seconde = seconde % (24*60*60)\n",
    "    heure = seconde // (60*60)\n",
    "    seconde = seconde % (60*60)\n",
    "    minute = seconde // 60\n",
    "    seconde = seconde % 60\n",
    "    return (jour,heure,minute,seconde)\n",
    "\n",
    "seconde = 10000000\n",
    "print(type(seconde))\n",
    "print(secondeEnTemps(seconde))\n",
    "    \n",
    "temps = secondeEnTemps(100000)\n",
    "print(temps[0],\"jours\",temps[1],\"heures\",temps[2],\"minutes\",temps[3],\"secondes\")"
   ]
  },
  {
   "cell_type": "markdown",
   "metadata": {},
   "source": [
    "Créer une fonction d'affichage d'un temps `afficheTemps`. Attention, les mots jour, heure et seconde doivent être au pluriel s'il y en a plusieurs. S'il y en a zéro, ils ne doivent pas apparaître.\n",
    "`print(message, end=\"\")` permet de ne pas sauter une ligne après un print. \n",
    "Vous pouvez écrire une fonction qui affiche un mot au pluriel ou non, appelée ensuite plusieurs fois par `afficheTemps` pour simplifier votre code.\n"
   ]
  },
  {
   "cell_type": "code",
   "execution_count": 6,
   "metadata": {},
   "outputs": [
    {
     "output_type": "stream",
     "name": "stdout",
     "text": [
      "1 jour, 14 minutes, 23 secondes, "
     ]
    }
   ],
   "source": [
    "#fonction auxiliaire ici\n",
    "\n",
    "def affiche_pluriel(valeur, mot):\n",
    "    if(valeur != 0):\n",
    "        print(valeur, \"\", end =\"\")\n",
    "        print(mot, end =\"\")\n",
    "        if(valeur != 1):\n",
    "            print(\"s\", end =\"\")\n",
    "        print(\", \", end=\"\")\n",
    "def afficheTemps(temps):\n",
    "    affiche_pluriel(temps[0], \"jour\")\n",
    "    affiche_pluriel(temps[1], \"heure\")\n",
    "    affiche_pluriel(temps[2], \"minute\")\n",
    "    affiche_pluriel(temps[3], \"seconde\")\n",
    "\n",
    "afficheTemps((1,0,14,23))    "
   ]
  },
  {
   "cell_type": "markdown",
   "metadata": {},
   "source": [
    "Ecrire une fonction qui demande à l'utilisateur de rentrer un nombre de jours, d'heures, de minutes et\n",
    "de secondes et qui renvoie un temps. Attention, si l'entrée utilisateur n'est pas correcte, par exemple 80 minutes,\n",
    "afficher un message d'erreur et s'arrêter.\n",
    "\n",
    "(Optionnel) Au lieu d'arêter le programme, demander de rentrer une nouvelle valeur, tant que \n",
    "ce n'est pas une valeur correcte."
   ]
  },
  {
   "cell_type": "code",
   "execution_count": 7,
   "metadata": {},
   "outputs": [
    {
     "output_type": "stream",
     "name": "stdout",
     "text": [
      "44 jours, 2 heures, 3 minutes, 3 secondes, "
     ]
    }
   ],
   "source": [
    "def demandeTemps():\n",
    "    jour = int(input(\"Entrer un nombre de jours\"))\n",
    "    heure = int(input(\"Entrer un nombre d'heures\"))\n",
    "    if(heure > 23):\n",
    "        print(\"Nombre d'heures incorrect\")\n",
    "        return\n",
    "    minute = int(input(\"Entrer un nombre de minutes\"))\n",
    "    if(minute > 59):\n",
    "        print(\"Nombre de minute incorrect\")\n",
    "        return\n",
    "    seconde = int(input(\"Entrez un nombre de secondes\"))\n",
    "    if(seconde > 59):\n",
    "        print(\"Nombre de secondes incorrect\")\n",
    "        return\n",
    "    return (jour, heure, minute, seconde)\n",
    "\n",
    "afficheTemps(demandeTemps())"
   ]
  },
  {
   "cell_type": "markdown",
   "metadata": {},
   "source": [
    "On veut être capable d'additionner deux temps. Donner une fonction qui fait ce calcul,\n",
    "en utilisant les fonctions précédentes."
   ]
  },
  {
   "cell_type": "code",
   "execution_count": 8,
   "metadata": {},
   "outputs": [
    {
     "output_type": "execute_result",
     "data": {
      "text/plain": [
       "(0, 3, 13, 26)"
      ]
     },
     "metadata": {},
     "execution_count": 8
    }
   ],
   "source": [
    "def sommeTemps(temps1,temps2):\n",
    "    return secondeEnTemps(tempsEnSeconde(temps1) + tempsEnSeconde(temps2))\n",
    "\n",
    "sommeTemps((2,3,4,25), (5,22,57,1))\n"
   ]
  },
  {
   "cell_type": "markdown",
   "metadata": {},
   "source": [
    "On veut maintenant calculer un pourcentage d'un temps. Par exemple, 20% de\n",
    "2 jours et 36 minutes correspond à 9 heures, 43 minutes et 12 secondes.\n",
    "\n",
    "Implémenter la fonction `proportionTemps` puis appeler cette fonction en échangeant l'ordre des arguments mais en les nommant."
   ]
  },
  {
   "cell_type": "code",
   "execution_count": 9,
   "metadata": {},
   "outputs": [
    {
     "output_type": "stream",
     "name": "stdout",
     "text": [
      "9.0 minutes, 36.0 secondes, "
     ]
    }
   ],
   "source": [
    "def proportionTemps(temps,proportion):\n",
    "    seconde = tempsEnSeconde(temps) * proportion\n",
    "    return secondeEnTemps(seconde)\n",
    "    \n",
    "afficheTemps(proportionTemps((2,0,36,0),0.2))\n",
    "#appeler la fonction en échangeant l'ordre des arguments"
   ]
  },
  {
   "cell_type": "markdown",
   "metadata": {},
   "source": [
    "On veut maintenant afficher un temps sous forme de date, en supposant \n",
    "que le temps 0 est le 1 janvier 1970 à 00:00:00.\n",
    "\n",
    "* Implémenter une fonction `tempsEnDate`qui donne la date sous la forme (année, jour, heure, minute, seconde).\n",
    "* Implémenter la fonction `afficheDate`qui affiche la date. \n",
    "* (Optionnel) Gérer également les mois."
   ]
  },
  {
   "cell_type": "code",
   "execution_count": 11,
   "metadata": {},
   "outputs": [
    {
     "output_type": "stream",
     "name": "stdout",
     "text": [
      "11574 jours, 1 heure, 46 minutes, 40 secondes, 2001 annees, 259 jours, 1 heure, 46 minutes, 40 secondes, 1605899867.4217331\nFri Nov 20 19:17:47 2020\n2020.0 annees, 336.0 jours, 19.0 heures, 17.0 minutes, 47.422011852264404 secondes, "
     ]
    }
   ],
   "source": [
    "import time\n",
    "def tempsEnDate(temps):\n",
    "    jour, heure, minute, seconde = temps\n",
    "    annee = 1970 + (jour // 365)\n",
    "    jour = jour % 365\n",
    "    return (annee, jour, heure, minute, seconde)\n",
    "\n",
    "def afficheDate(date = -1):\n",
    "    \"\"\"affiche la date passée en argument, la date du jour si date = -1\"\"\"\n",
    "    annee, jour, heure, minute, seconde = date\n",
    "    affiche_pluriel(annee, \"annee\")\n",
    "    afficheTemps((jour, heure, minute, seconde))\n",
    "   \n",
    "    \n",
    "temps = secondeEnTemps(1000000000)\n",
    "afficheTemps(temps)\n",
    "afficheDate(tempsEnDate(temps))\n",
    "\n",
    "print(time.time())\n",
    "print(time.asctime(time.gmtime()))\n",
    "afficheDate(tempsEnDate(secondeEnTemps(time.time())))"
   ]
  },
  {
   "cell_type": "markdown",
   "metadata": {},
   "source": [
    "Il existe des fonctions dans la librairie `time` pour la gestion du temps. En particulier, il existe\n",
    "une fonction `time` qui donne le temps écoulé depuis 1970 en secondes. \n",
    "La trouver avec la [documentation python](https://docs.python.org/fr/3/library/time.html#module-time) et la tester en utilisant `afficheDate`. \n",
    "Tester de la même manière la fonction `time.gmtime` qui réalise une tâche similaire à `tempsEnDate`.\n",
    "Que constatez vous ?"
   ]
  },
  {
   "cell_type": "code",
   "execution_count": null,
   "metadata": {},
   "outputs": [],
   "source": [
    "#tester ici les fonctions de la librairie time"
   ]
  },
  {
   "cell_type": "markdown",
   "metadata": {},
   "source": [
    "Attention, tous les 4 ans les années sont bisextiles (un jour de plus) sauf les multiples de 100 qui ne sont pas des multiples de 400.\n",
    "Donner un code qui prend un nombre de jours et affiche toutes les années bisextiles depuis 1 janvier 2020 à 00:00:00 jusqu'à la fin de ces jours."
   ]
  },
  {
   "cell_type": "code",
   "execution_count": 14,
   "metadata": {},
   "outputs": [
    {
     "output_type": "stream",
     "name": "stdout",
     "text": [
      "1972 est bissextile\n1976 est bissextile\n1980 est bissextile\n1984 est bissextile\n1988 est bissextile\n1992 est bissextile\n1996 est bissextile\n2000 est bissextile\n2004 est bissextile\n2008 est bissextile\n2012 est bissextile\n2016 est bissextile\n2020 est bissextile\n2024 est bissextile\n2028 est bissextile\n2032 est bissextile\n2036 est bissextile\n2040 est bissextile\n2044 est bissextile\n2048 est bissextile\n2052 est bissextile\n2056 est bissextile\n2060 est bissextile\n2064 est bissextile\n2068 est bissextile\n2072 est bissextile\n2076 est bissextile\n2080 est bissextile\n2084 est bissextile\n2088 est bissextile\n2092 est bissextile\n2096 est bissextile\n2104 est bissextile\n2108 est bissextile\n2112 est bissextile\n2116 est bissextile\n2120 est bissextile\n2124 est bissextile\n2128 est bissextile\n2132 est bissextile\n2136 est bissextile\n2140 est bissextile\n2144 est bissextile\n2148 est bissextile\n2152 est bissextile\n2156 est bissextile\n2160 est bissextile\n2164 est bissextile\n2168 est bissextile\n2172 est bissextile\n2176 est bissextile\n2180 est bissextile\n2184 est bissextile\n2188 est bissextile\n2192 est bissextile\n2196 est bissextile\n2204 est bissextile\n2208 est bissextile\n2212 est bissextile\n2216 est bissextile\n2220 est bissextile\n2224 est bissextile\n2228 est bissextile\n2232 est bissextile\n2236 est bissextile\n2240 est bissextile\n2244 est bissextile\n2248 est bissextile\n2252 est bissextile\n2256 est bissextile\n2260 est bissextile\n2264 est bissextile\n2268 est bissextile\n2272 est bissextile\n2276 est bissextile\n2280 est bissextile\n2284 est bissextile\n2288 est bissextile\n2292 est bissextile\n2296 est bissextile\n2304 est bissextile\n2308 est bissextile\n2312 est bissextile\n2316 est bissextile\n2320 est bissextile\n2324 est bissextile\n2328 est bissextile\n2332 est bissextile\n2336 est bissextile\n2340 est bissextile\n2344 est bissextile\n2348 est bissextile\n2352 est bissextile\n2356 est bissextile\n2360 est bissextile\n2364 est bissextile\n2368 est bissextile\n2372 est bissextile\n2376 est bissextile\n2380 est bissextile\n2384 est bissextile\n2388 est bissextile\n2392 est bissextile\n2396 est bissextile\n2400 est bissextile\n2404 est bissextile\n2408 est bissextile\n2412 est bissextile\n2416 est bissextile\n2420 est bissextile\n2424 est bissextile\n2428 est bissextile\n2432 est bissextile\n2436 est bissextile\n2440 est bissextile\n2444 est bissextile\n2448 est bissextile\n2452 est bissextile\n2456 est bissextile\n2460 est bissextile\n2464 est bissextile\n2468 est bissextile\n2472 est bissextile\n2476 est bissextile\n2480 est bissextile\n2484 est bissextile\n2488 est bissextile\n2492 est bissextile\n2496 est bissextile\n2504 est bissextile\n2508 est bissextile\n2512 est bissextile\n2516 est bissextile\n"
     ]
    }
   ],
   "source": [
    "import time\n",
    "\n",
    "def estBissextile(annee):\n",
    "    return (annee % 4 == 0) and (annee % 100 != 0 or annee % 400 == 0)\n",
    "\n",
    "def bisextile(jour):\n",
    "    annee = 1970\n",
    "    while jour > 0:\n",
    "        if estBissextile(annee):\n",
    "            jour -= 366\n",
    "            print(annee, \"est bissextile\")\n",
    "        else:\n",
    "            jour -= 365\n",
    "        annee += 1\n",
    "\n",
    "    \n",
    "        \n",
    "bisextile(200000)"
   ]
  },
  {
   "cell_type": "markdown",
   "metadata": {},
   "source": [
    "Implémenter une fonction `nombreBisextile` qui calcule le nombre d'années bisextiles pour un nombre de jour donnés pour corriger votre fonction de calcul de la date."
   ]
  },
  {
   "cell_type": "code",
   "execution_count": 27,
   "metadata": {},
   "outputs": [
    {
     "output_type": "stream",
     "name": "stdout",
     "text": [
      "11574 jours, 1 heure, 46 minutes, 40 secondes, "
     ]
    },
    {
     "output_type": "error",
     "ename": "ValueError",
     "evalue": "not enough values to unpack (expected 5, got 4)",
     "traceback": [
      "\u001b[0;31m---------------------------------------------------------------------------\u001b[0m",
      "\u001b[0;31mValueError\u001b[0m                                Traceback (most recent call last)",
      "\u001b[0;32m<ipython-input-27-8e494be7d7b0>\u001b[0m in \u001b[0;36m<module>\u001b[0;34m\u001b[0m\n\u001b[1;32m     24\u001b[0m \u001b[0mtemps\u001b[0m \u001b[0;34m=\u001b[0m \u001b[0msecondeEnTemps\u001b[0m\u001b[0;34m(\u001b[0m\u001b[0;36m1000000000\u001b[0m\u001b[0;34m)\u001b[0m\u001b[0;34m\u001b[0m\u001b[0;34m\u001b[0m\u001b[0m\n\u001b[1;32m     25\u001b[0m \u001b[0mafficheTemps\u001b[0m\u001b[0;34m(\u001b[0m\u001b[0mtemps\u001b[0m\u001b[0;34m)\u001b[0m\u001b[0;34m\u001b[0m\u001b[0;34m\u001b[0m\u001b[0m\n\u001b[0;32m---> 26\u001b[0;31m \u001b[0mafficheDate\u001b[0m\u001b[0;34m(\u001b[0m\u001b[0mtempsEnDateBisextile\u001b[0m\u001b[0;34m(\u001b[0m\u001b[0mtemps\u001b[0m\u001b[0;34m)\u001b[0m\u001b[0;34m)\u001b[0m\u001b[0;34m\u001b[0m\u001b[0;34m\u001b[0m\u001b[0m\n\u001b[0m\u001b[1;32m     27\u001b[0m \u001b[0mprint\u001b[0m\u001b[0;34m(\u001b[0m\u001b[0mtime\u001b[0m\u001b[0;34m.\u001b[0m\u001b[0masctime\u001b[0m\u001b[0;34m(\u001b[0m\u001b[0;34m)\u001b[0m\u001b[0;34m)\u001b[0m\u001b[0;34m\u001b[0m\u001b[0;34m\u001b[0m\u001b[0m\n\u001b[1;32m     28\u001b[0m \u001b[0mafficheDate\u001b[0m\u001b[0;34m(\u001b[0m\u001b[0mtime\u001b[0m\u001b[0;34m.\u001b[0m\u001b[0mtime\u001b[0m\u001b[0;34m(\u001b[0m\u001b[0;34m)\u001b[0m\u001b[0;34m)\u001b[0m\u001b[0;34m\u001b[0m\u001b[0;34m\u001b[0m\u001b[0m\n",
      "\u001b[0;32m<ipython-input-11-51ff0a42c8ef>\u001b[0m in \u001b[0;36mafficheDate\u001b[0;34m(date)\u001b[0m\n\u001b[1;32m      8\u001b[0m \u001b[0;32mdef\u001b[0m \u001b[0mafficheDate\u001b[0m\u001b[0;34m(\u001b[0m\u001b[0mdate\u001b[0m \u001b[0;34m=\u001b[0m \u001b[0;34m-\u001b[0m\u001b[0;36m1\u001b[0m\u001b[0;34m)\u001b[0m\u001b[0;34m:\u001b[0m\u001b[0;34m\u001b[0m\u001b[0;34m\u001b[0m\u001b[0m\n\u001b[1;32m      9\u001b[0m     \u001b[0;34m\"\"\"affiche la date passée en argument, la date du jour si date = -1\"\"\"\u001b[0m\u001b[0;34m\u001b[0m\u001b[0;34m\u001b[0m\u001b[0m\n\u001b[0;32m---> 10\u001b[0;31m     \u001b[0mannee\u001b[0m\u001b[0;34m,\u001b[0m \u001b[0mjour\u001b[0m\u001b[0;34m,\u001b[0m \u001b[0mheure\u001b[0m\u001b[0;34m,\u001b[0m \u001b[0mminute\u001b[0m\u001b[0;34m,\u001b[0m \u001b[0mseconde\u001b[0m \u001b[0;34m=\u001b[0m \u001b[0mdate\u001b[0m\u001b[0;34m\u001b[0m\u001b[0;34m\u001b[0m\u001b[0m\n\u001b[0m\u001b[1;32m     11\u001b[0m     \u001b[0maffiche_pluriel\u001b[0m\u001b[0;34m(\u001b[0m\u001b[0mannee\u001b[0m\u001b[0;34m,\u001b[0m \u001b[0;34m\"annee\"\u001b[0m\u001b[0;34m)\u001b[0m\u001b[0;34m\u001b[0m\u001b[0;34m\u001b[0m\u001b[0m\n\u001b[1;32m     12\u001b[0m     \u001b[0mafficheTemps\u001b[0m\u001b[0;34m(\u001b[0m\u001b[0;34m(\u001b[0m\u001b[0mjour\u001b[0m\u001b[0;34m,\u001b[0m \u001b[0mheure\u001b[0m\u001b[0;34m,\u001b[0m \u001b[0mminute\u001b[0m\u001b[0;34m,\u001b[0m \u001b[0mseconde\u001b[0m\u001b[0;34m)\u001b[0m\u001b[0;34m)\u001b[0m\u001b[0;34m\u001b[0m\u001b[0;34m\u001b[0m\u001b[0m\n",
      "\u001b[0;31mValueError\u001b[0m: not enough values to unpack (expected 5, got 4)"
     ]
    }
   ],
   "source": [
    "def nombreBisextile(jour):\n",
    "    annee = 1970\n",
    "    nombre_annee_bissextile = 0\n",
    "    while jour > 0:\n",
    "        if estBissextile(annee):\n",
    "            jour -= 366\n",
    "            nombre_annee_bissextile += 1\n",
    "        else:\n",
    "            jour -= 365\n",
    "        annee += 1\n",
    "    return nombre_annee_bissextile\n",
    "\n",
    "\n",
    "def tempsEnDateBisextile(temps = -1):\n",
    "    if(temps == -1):\n",
    "        temps = secondeEnTemps(time.time())\n",
    "    jour, heure, minute, seconde = temps\n",
    "    jour = jour - nombreBisextile(jour)\n",
    "    annee = 1970 + jour // 365\n",
    "    jour = jour % 365\n",
    "    return ((annee, heure, minute, seconde))\n",
    "   \n",
    "tempsEnDateBisextile()\n",
    "temps = secondeEnTemps(1000000000)\n",
    "afficheTemps(temps)\n",
    "afficheDate(tempsEnDateBisextile(temps))\n",
    "print(time.asctime())\n",
    "afficheDate(time.time())"
   ]
  },
  {
   "cell_type": "markdown",
   "metadata": {},
   "source": [
    "Ajouter des valeurs par défaut dans le code de `afficheDate` afin de pouvoir ommettre\n",
    "l'argument de ces fonctions. Dans ce cas là, on affichera la date actuelle en utilisant la fonction `time`."
   ]
  },
  {
   "cell_type": "markdown",
   "metadata": {},
   "source": [
    "On va maintenant inspecter notre code pour améliorer sa qualité:\n",
    "\n",
    "* Regarder tous les warnings donnés par flake8 et essayer de les régler.\n",
    "* Utiliser le debugger (F5) pour étudier le fonctionnement de votre fonction nombreBisextile.\n",
    "* Mettre les annotations de type des arguments et du retour de la fonction pour nombreBisextile et une autre fonction de votre choix. Vérifier avec mypy que tout fonctionne bien."
   ]
  },
  {
   "cell_type": "markdown",
   "metadata": {},
   "source": [
    "Donner une fonction qui vérifie la charge horaire d'un employé, donnée sous forme d'une liste de temps travaillé chaque semaine dans un mois. Il ne faut pas dépasser 48h par semaine et 140h par mois (qu'on considère ici de 4 semaines).\n",
    "\n",
    "(Optionnel) S'adapter à une liste qui peut contenir plusieurs mois."
   ]
  },
  {
   "cell_type": "code",
   "execution_count": null,
   "metadata": {},
   "outputs": [],
   "source": [
    "def verifie(liste_temps):\n",
    "    \n",
    "\n",
    "\n",
    "liste_temps = [[1,2,39,34],[0,1,9,4],[0,29,39,51],[0,31,13,46]]\n",
    "verifie(liste_temps)"
   ]
  },
  {
   "cell_type": "code",
   "execution_count": 4,
   "metadata": {},
   "outputs": [
    {
     "ename": "NameError",
     "evalue": "name 'b' is not defined",
     "output_type": "error",
     "traceback": [
      "\u001b[0;31m---------------------------------------------------------------------------\u001b[0m",
      "\u001b[0;31mNameError\u001b[0m                                 Traceback (most recent call last)",
      "\u001b[0;32m<ipython-input-4-367e618768f7>\u001b[0m in \u001b[0;36m<module>\u001b[0;34m\u001b[0m\n\u001b[1;32m      8\u001b[0m \u001b[0mc\u001b[0m \u001b[0;34m=\u001b[0m \u001b[0;36m1\u001b[0m\u001b[0;34m\u001b[0m\u001b[0;34m\u001b[0m\u001b[0m\n\u001b[1;32m      9\u001b[0m \u001b[0;31m#b = calculs(3,4)\u001b[0m\u001b[0;34m\u001b[0m\u001b[0;34m\u001b[0m\u001b[0;34m\u001b[0m\u001b[0m\n\u001b[0;32m---> 10\u001b[0;31m \u001b[0mprint\u001b[0m\u001b[0;34m(\u001b[0m\u001b[0ma\u001b[0m\u001b[0;34m,\u001b[0m\u001b[0mb\u001b[0m\u001b[0;34m,\u001b[0m\u001b[0mc\u001b[0m\u001b[0;34m)\u001b[0m\u001b[0;34m\u001b[0m\u001b[0;34m\u001b[0m\u001b[0m\n\u001b[0m",
      "\u001b[0;31mNameError\u001b[0m: name 'b' is not defined"
     ]
    }
   ],
   "source": [
    "a = 2\n",
    "\n",
    "def calculs(b,c):\n",
    "    c = a * 2\n",
    "    a = 1\n",
    "    return a + b;\n",
    "\n",
    "c = 1\n",
    "b = calculs(3,4)\n",
    "print(a,b,c)"
   ]
  },
  {
   "cell_type": "code",
   "execution_count": null,
   "metadata": {},
   "outputs": [],
   "source": []
  }
 ],
 "metadata": {
  "kernelspec": {
   "display_name": "Python 3",
   "language": "python",
   "name": "python3"
  },
  "language_info": {
   "codemirror_mode": {
    "name": "ipython",
    "version": 3
   },
   "file_extension": ".py",
   "mimetype": "text/x-python",
   "name": "python",
   "nbconvert_exporter": "python",
   "pygments_lexer": "ipython3",
   "version": "3.8.5-final"
  }
 },
 "nbformat": 4,
 "nbformat_minor": 4
}