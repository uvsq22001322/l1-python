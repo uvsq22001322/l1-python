{
 "metadata": {
  "language_info": {
   "codemirror_mode": {
    "name": "ipython",
    "version": 3
   },
   "file_extension": ".py",
   "mimetype": "text/x-python",
   "name": "python",
   "nbconvert_exporter": "python",
   "pygments_lexer": "ipython3",
   "version": "3.8.3-final"
  },
  "orig_nbformat": 2,
  "kernelspec": {
   "name": "python3",
   "display_name": "Python 3"
  }
 },
 "nbformat": 4,
 "nbformat_minor": 2,
 "cells": [
  {
   "cell_type": "code",
   "execution_count": 13,
   "metadata": {},
   "outputs": [
    {
     "output_type": "stream",
     "name": "stdout",
     "text": [
      "<class 'tuple'>\n3534\n<class 'int'>\n(11, 13, 46, 40)\n11 jours 13 heures 46 minutes 40 secondes\n"
     ]
    }
   ],
   "source": [
    "def tempsEnSecondes(temps):\n",
    "    jour, heure, minute, seconde = temps\n",
    "    return (((jour*24) + heure)*60 + minute*60 +seconde)\n",
    "\n",
    "temps = 2, 5, 5, 54\n",
    "print(type(temps))\n",
    "print(tempsEnSecondes(temps))\n",
    "\n",
    "def secondeEnTemps(seconde):\n",
    "    jour = seconde // (60*60*24)\n",
    "    seconde = seconde % (60*60*24)\n",
    "    heure = seconde // (60*60)\n",
    "    seconde = seconde % (60*60)\n",
    "    minute = seconde // (60)\n",
    "    seconde = seconde % (60)\n",
    "    return (jour, heure, minute, seconde)\n",
    "\n",
    "seconde = 1000000\n",
    "print(type(seconde))\n",
    "print(secondeEnTemps(seconde))\n",
    "\n",
    "temps = secondeEnTemps(seconde)\n",
    "print(temps[0], \"jours\", temps[1], \"heures\", temps[2], \"minutes\", temps[3], \"secondes\" )\n",
    "\n",
    "def affiche_pluriels(valeur, mot):\n",
    "    if(valeur != 0):\n",
    "        print(valeur, \"\", end=\"\")\n",
    "        print(mot, end=\"\")\n",
    "\n",
    "\n",
    "\n",
    "\n",
    "\n",
    "\n",
    "\n",
    "\n",
    "\n",
    "\n"
   ]
  },
  {
   "cell_type": "code",
   "execution_count": null,
   "metadata": {},
   "outputs": [],
   "source": []
  }
 ]
}